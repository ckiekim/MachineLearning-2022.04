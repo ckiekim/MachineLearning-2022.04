{
  "nbformat": 4,
  "nbformat_minor": 0,
  "metadata": {
    "colab": {
      "name": "02_ModelSelection.ipynb",
      "provenance": [],
      "collapsed_sections": []
    },
    "kernelspec": {
      "name": "python3",
      "display_name": "Python 3"
    },
    "language_info": {
      "name": "python"
    }
  },
  "cells": [
    {
      "cell_type": "markdown",
      "source": [
        "# Model Selection 모듈"
      ],
      "metadata": {
        "id": "IfIgYWV9uz2y"
      }
    },
    {
      "cell_type": "markdown",
      "source": [
        "- 훈련 데이터와 테스트 데이터로 분리하지 않고 머신러닝 수행"
      ],
      "metadata": {
        "id": "cELvQa4du_yh"
      }
    },
    {
      "cell_type": "code",
      "execution_count": 1,
      "metadata": {
        "id": "eRi2YE04uuZS"
      },
      "outputs": [],
      "source": [
        "from sklearn.datasets import load_iris\n",
        "from sklearn.tree import DecisionTreeClassifier"
      ]
    },
    {
      "cell_type": "code",
      "source": [
        "iris = load_iris()\n",
        "dtc = DecisionTreeClassifier(random_state=2022)\n",
        "dtc.fit(iris.data, iris.target)\n",
        "dtc.score(iris.data, iris.target)"
      ],
      "metadata": {
        "colab": {
          "base_uri": "https://localhost:8080/"
        },
        "id": "rDf2-kYZvVze",
        "outputId": "e5db36f6-52a3-4b2c-ecb5-d9f5322f2bd8"
      },
      "execution_count": 3,
      "outputs": [
        {
          "output_type": "execute_result",
          "data": {
            "text/plain": [
              "1.0"
            ]
          },
          "metadata": {},
          "execution_count": 3
        }
      ]
    },
    {
      "cell_type": "markdown",
      "source": [
        "- 교차 검증: cross_validate() + 평가\n",
        "- 교차 검증후 평가까지: cross_val_score()"
      ],
      "metadata": {
        "id": "nsU1MXhyyFsB"
      }
    },
    {
      "cell_type": "code",
      "source": [
        "from sklearn.model_selection import cross_val_score\n",
        "cross_val_score(dtc, iris.data, iris.target, scoring='accuracy', cv=5)"
      ],
      "metadata": {
        "colab": {
          "base_uri": "https://localhost:8080/"
        },
        "id": "iMrwYas2vZkY",
        "outputId": "19d30f7a-2468-497a-e88f-407ad75baa96"
      },
      "execution_count": 4,
      "outputs": [
        {
          "output_type": "execute_result",
          "data": {
            "text/plain": [
              "array([0.96666667, 0.96666667, 0.9       , 0.93333333, 1.        ])"
            ]
          },
          "metadata": {},
          "execution_count": 4
        }
      ]
    },
    {
      "cell_type": "code",
      "source": [
        "cross_val_score(dtc, iris.data, iris.target, scoring='accuracy', cv=5).mean()"
      ],
      "metadata": {
        "colab": {
          "base_uri": "https://localhost:8080/"
        },
        "id": "FfiYK-Bdywin",
        "outputId": "9506210d-d3f7-475c-febb-8e887db5049c"
      },
      "execution_count": 5,
      "outputs": [
        {
          "output_type": "execute_result",
          "data": {
            "text/plain": [
              "0.9533333333333334"
            ]
          },
          "metadata": {},
          "execution_count": 5
        }
      ]
    },
    {
      "cell_type": "markdown",
      "source": [
        "- GridSearchCV 클래스: 하이퍼 파라메터 튜닝 + 교차 검증"
      ],
      "metadata": {
        "id": "K9YEwSYE0PFA"
      }
    },
    {
      "cell_type": "code",
      "source": [
        "# Train/Test dataset 분리\n",
        "from sklearn.model_selection import train_test_split\n",
        "X_train, X_test, y_train, y_test = train_test_split(\n",
        "    iris.data, iris.target, stratify=iris.target, test_size=0.2, random_state=2022\n",
        ")"
      ],
      "metadata": {
        "id": "fPG_EYNX3_CQ"
      },
      "execution_count": 7,
      "outputs": []
    },
    {
      "cell_type": "code",
      "source": [
        "# 분류기와 그에 해당하는 하이퍼 파라메터\n",
        "dtc = DecisionTreeClassifier(random_state=2022)\n",
        "dtc.get_params()"
      ],
      "metadata": {
        "colab": {
          "base_uri": "https://localhost:8080/"
        },
        "id": "U8nTJXziy_sB",
        "outputId": "d138ee28-df36-459f-d627-40a93d0eeab3"
      },
      "execution_count": 8,
      "outputs": [
        {
          "output_type": "execute_result",
          "data": {
            "text/plain": [
              "{'ccp_alpha': 0.0,\n",
              " 'class_weight': None,\n",
              " 'criterion': 'gini',\n",
              " 'max_depth': None,\n",
              " 'max_features': None,\n",
              " 'max_leaf_nodes': None,\n",
              " 'min_impurity_decrease': 0.0,\n",
              " 'min_samples_leaf': 1,\n",
              " 'min_samples_split': 2,\n",
              " 'min_weight_fraction_leaf': 0.0,\n",
              " 'random_state': 2022,\n",
              " 'splitter': 'best'}"
            ]
          },
          "metadata": {},
          "execution_count": 8
        }
      ]
    },
    {
      "cell_type": "code",
      "source": [
        "params = {\n",
        "    'max_depth': [2,3,4,5,6],\n",
        "    'min_samples_split': [2,3,4]\n",
        "}"
      ],
      "metadata": {
        "id": "QLxzkEJWzNEI"
      },
      "execution_count": 9,
      "outputs": []
    },
    {
      "cell_type": "code",
      "source": [
        "from sklearn.model_selection import GridSearchCV\n",
        "\n",
        "grid_dt = GridSearchCV(\n",
        "    dtc, param_grid=params, scoring='accuracy', cv=5\n",
        ")"
      ],
      "metadata": {
        "id": "YO705o095NBp"
      },
      "execution_count": 10,
      "outputs": []
    },
    {
      "cell_type": "code",
      "source": [
        "grid_dt.fit(X_train, y_train)"
      ],
      "metadata": {
        "colab": {
          "base_uri": "https://localhost:8080/"
        },
        "id": "jQVbI1y75wWB",
        "outputId": "e4572eb5-05fc-44cd-e08c-ceb024fc2534"
      },
      "execution_count": 11,
      "outputs": [
        {
          "output_type": "execute_result",
          "data": {
            "text/plain": [
              "GridSearchCV(cv=5, estimator=DecisionTreeClassifier(random_state=2022),\n",
              "             param_grid={'max_depth': [2, 3, 4, 5, 6],\n",
              "                         'min_samples_split': [2, 3, 4]},\n",
              "             scoring='accuracy')"
            ]
          },
          "metadata": {},
          "execution_count": 11
        }
      ]
    },
    {
      "cell_type": "code",
      "source": [
        "# 베스트 파라메터\n",
        "grid_dt.best_params_"
      ],
      "metadata": {
        "colab": {
          "base_uri": "https://localhost:8080/"
        },
        "id": "0PMvh1_-6DG3",
        "outputId": "164d5962-fa80-4240-bf85-3507a3b88f86"
      },
      "execution_count": 12,
      "outputs": [
        {
          "output_type": "execute_result",
          "data": {
            "text/plain": [
              "{'max_depth': 3, 'min_samples_split': 2}"
            ]
          },
          "metadata": {},
          "execution_count": 12
        }
      ]
    },
    {
      "cell_type": "code",
      "source": [
        "# 베스트 스코어\n",
        "grid_dt.best_score_"
      ],
      "metadata": {
        "colab": {
          "base_uri": "https://localhost:8080/"
        },
        "id": "yd67Iu6O7DM2",
        "outputId": "998e8b9f-19d6-47af-a146-b1b6d013d310"
      },
      "execution_count": 13,
      "outputs": [
        {
          "output_type": "execute_result",
          "data": {
            "text/plain": [
              "0.9916666666666666"
            ]
          },
          "metadata": {},
          "execution_count": 13
        }
      ]
    },
    {
      "cell_type": "code",
      "source": [
        "# 최적의 분류기\n",
        "# dtc_best = DecisionTreeClassifier(max_depth=3, min_samples_split=2, random_state=2022)\n",
        "dtc_best = grid_dt.best_estimator_"
      ],
      "metadata": {
        "id": "ZeKO3MvK7LkY"
      },
      "execution_count": 14,
      "outputs": []
    },
    {
      "cell_type": "code",
      "source": [
        "# 최적의 분류기로 예측 및 평가\n",
        "dtc_best.score(X_test, y_test)"
      ],
      "metadata": {
        "colab": {
          "base_uri": "https://localhost:8080/"
        },
        "id": "jCFzjHwI7qHY",
        "outputId": "8d449b75-770f-489c-e13a-421df71f6677"
      },
      "execution_count": 15,
      "outputs": [
        {
          "output_type": "execute_result",
          "data": {
            "text/plain": [
              "0.9333333333333333"
            ]
          },
          "metadata": {},
          "execution_count": 15
        }
      ]
    },
    {
      "cell_type": "markdown",
      "source": [
        "- SVM 사례"
      ],
      "metadata": {
        "id": "KsOcGc9G8LK4"
      }
    },
    {
      "cell_type": "code",
      "source": [
        "from sklearn.svm import SVC\n",
        "svc = SVC(random_state=2022)\n",
        "svc.get_params()"
      ],
      "metadata": {
        "colab": {
          "base_uri": "https://localhost:8080/"
        },
        "id": "6HYiPNHX759A",
        "outputId": "9ae772a6-f4cd-496f-e4dd-2422f4036b17"
      },
      "execution_count": 16,
      "outputs": [
        {
          "output_type": "execute_result",
          "data": {
            "text/plain": [
              "{'C': 1.0,\n",
              " 'break_ties': False,\n",
              " 'cache_size': 200,\n",
              " 'class_weight': None,\n",
              " 'coef0': 0.0,\n",
              " 'decision_function_shape': 'ovr',\n",
              " 'degree': 3,\n",
              " 'gamma': 'scale',\n",
              " 'kernel': 'rbf',\n",
              " 'max_iter': -1,\n",
              " 'probability': False,\n",
              " 'random_state': 2022,\n",
              " 'shrinking': True,\n",
              " 'tol': 0.001,\n",
              " 'verbose': False}"
            ]
          },
          "metadata": {},
          "execution_count": 16
        }
      ]
    },
    {
      "cell_type": "code",
      "source": [
        "params = {'C': [0.01, 0.1, 1, 10, 100]}\n",
        "grid_sv = GridSearchCV(svc, params, scoring='accuracy', cv=5)"
      ],
      "metadata": {
        "id": "SVIg2isZ8XMo"
      },
      "execution_count": 17,
      "outputs": []
    },
    {
      "cell_type": "code",
      "source": [
        "grid_sv.fit(X_train, y_train)\n",
        "grid_sv.best_params_"
      ],
      "metadata": {
        "colab": {
          "base_uri": "https://localhost:8080/"
        },
        "id": "UEBf8UTt9AoF",
        "outputId": "e887fea6-4689-4fdb-94a5-d7ac1386ed67"
      },
      "execution_count": 18,
      "outputs": [
        {
          "output_type": "execute_result",
          "data": {
            "text/plain": [
              "{'C': 1}"
            ]
          },
          "metadata": {},
          "execution_count": 18
        }
      ]
    },
    {
      "cell_type": "code",
      "source": [
        "# 범위를 좁혀가면서 파라메터를 찾음\n",
        "params = {'C': [0.2, 0.6, 1, 4, 8]}\n",
        "grid_sv = GridSearchCV(svc, params, scoring='accuracy', cv=5)\n",
        "grid_sv.fit(X_train, y_train)\n",
        "grid_sv.best_params_"
      ],
      "metadata": {
        "colab": {
          "base_uri": "https://localhost:8080/"
        },
        "id": "qyBeaxFL9KFP",
        "outputId": "d2b3e9bf-24d5-4b40-9d43-681cf2d3e993"
      },
      "execution_count": 19,
      "outputs": [
        {
          "output_type": "execute_result",
          "data": {
            "text/plain": [
              "{'C': 4}"
            ]
          },
          "metadata": {},
          "execution_count": 19
        }
      ]
    },
    {
      "cell_type": "code",
      "source": [
        "# 범위를 좁혀가면서 파라메터를 찾음\n",
        "params = {'C': [2,3,4,5,6]}\n",
        "grid_sv = GridSearchCV(svc, params, scoring='accuracy', cv=5)\n",
        "grid_sv.fit(X_train, y_train)\n",
        "grid_sv.best_params_"
      ],
      "metadata": {
        "colab": {
          "base_uri": "https://localhost:8080/"
        },
        "id": "LZHSZCCz9jAv",
        "outputId": "ba3fd50f-6bb5-46ef-aab1-e2d1df58a24f"
      },
      "execution_count": 20,
      "outputs": [
        {
          "output_type": "execute_result",
          "data": {
            "text/plain": [
              "{'C': 4}"
            ]
          },
          "metadata": {},
          "execution_count": 20
        }
      ]
    },
    {
      "cell_type": "code",
      "source": [
        "svc_best = grid_sv.best_estimator_\n",
        "svc_best.score(X_test, y_test)"
      ],
      "metadata": {
        "colab": {
          "base_uri": "https://localhost:8080/"
        },
        "id": "8eGXva8y9sTn",
        "outputId": "55f4fd58-e7d4-4a7a-99e1-82fd9c7f6846"
      },
      "execution_count": 21,
      "outputs": [
        {
          "output_type": "execute_result",
          "data": {
            "text/plain": [
              "0.9666666666666667"
            ]
          },
          "metadata": {},
          "execution_count": 21
        }
      ]
    },
    {
      "cell_type": "code",
      "source": [
        ""
      ],
      "metadata": {
        "id": "IjElfym6-BuY"
      },
      "execution_count": null,
      "outputs": []
    }
  ]
}