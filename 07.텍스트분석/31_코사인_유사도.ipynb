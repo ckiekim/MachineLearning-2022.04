{
  "nbformat": 4,
  "nbformat_minor": 0,
  "metadata": {
    "colab": {
      "name": "31_코사인_유사도.ipynb",
      "provenance": [],
      "collapsed_sections": []
    },
    "kernelspec": {
      "name": "python3",
      "display_name": "Python 3"
    },
    "language_info": {
      "name": "python"
    }
  },
  "cells": [
    {
      "cell_type": "markdown",
      "source": [
        "# 문서 유사도 - 코사인 유사도"
      ],
      "metadata": {
        "id": "V-Bts1aL6_sR"
      }
    },
    {
      "cell_type": "code",
      "execution_count": 1,
      "metadata": {
        "id": "rzpgK7j767Rg"
      },
      "outputs": [],
      "source": [
        "import numpy as np\n",
        "import matplotlib.pyplot as plt"
      ]
    },
    {
      "cell_type": "code",
      "source": [
        "xs = np.linspace(0, 2*np.pi, 200)\n",
        "cosx = np.cos(xs)\n",
        "sinx = np.sin(xs)\n",
        "\n",
        "plt.plot(xs, cosx, label='cosine')\n",
        "plt.plot(xs, sinx, label='sine')\n",
        "plt.xticks([0, np.pi/2, np.pi, 3*np.pi/2, 2*np.pi])\n",
        "plt.yticks([-1,0,1])\n",
        "plt.grid(), plt.legend()\n",
        "plt.show()"
      ],
      "metadata": {
        "colab": {
          "base_uri": "https://localhost:8080/",
          "height": 265
        },
        "id": "Wd8dcKR-8yT6",
        "outputId": "36a97999-6f32-48c5-82f6-9ff2c056cf49"
      },
      "execution_count": 2,
      "outputs": [
        {
          "output_type": "display_data",
          "data": {
            "text/plain": [
              "<Figure size 432x288 with 1 Axes>"
            ],
            "image/png": "[encoded data removed]"
          },
          "metadata": {
            "needs_background": "light"
          }
        }
      ]
    },
    {
      "cell_type": "code",
      "source": [
        "v1, v2, v3 = np.array([1,1,0]), np.array([2,1,0]), np.array([0,0,1])\n",
        "v1_norm = np.sqrt(np.sum(np.square(v1)))\n",
        "v2_norm = np.sqrt(np.sum(np.square(v2)))\n",
        "v3_norm = np.sqrt(np.sum(np.square(v3)))\n",
        "v1_norm, v2_norm, v3_norm"
      ],
      "metadata": {
        "colab": {
          "base_uri": "https://localhost:8080/"
        },
        "id": "XLdt6uiD9gIy",
        "outputId": "aa5d2cc3-5b62-4c87-ee25-7cc99846e6f9"
      },
      "execution_count": 3,
      "outputs": [
        {
          "output_type": "execute_result",
          "data": {
            "text/plain": [
              "(1.4142135623730951, 2.23606797749979, 1.0)"
            ]
          },
          "metadata": {},
          "execution_count": 3
        }
      ]
    },
    {
      "cell_type": "code",
      "source": [
        "# v1과 v2의 유사도, v1과 v3의 유사도\n",
        "cos12 = np.dot(v1, v2) / (v1_norm * v2_norm)\n",
        "cos13 = np.dot(v1, v3) / (v1_norm * v3_norm)\n",
        "cos12, cos13"
      ],
      "metadata": {
        "colab": {
          "base_uri": "https://localhost:8080/"
        },
        "id": "zrHdGjPf-jG7",
        "outputId": "8e7de2b3-5f0c-48a7-d4cd-3871ef907839"
      },
      "execution_count": 5,
      "outputs": [
        {
          "output_type": "execute_result",
          "data": {
            "text/plain": [
              "(0.9486832980505138, 0.0)"
            ]
          },
          "metadata": {},
          "execution_count": 5
        }
      ]
    },
    {
      "cell_type": "code",
      "source": [
        "def cos_similarity(v1, v2):\n",
        "    v1_norm = np.sqrt(np.sum(np.square(v1)))\n",
        "    v2_norm = np.sqrt(np.sum(np.square(v2)))\n",
        "    return np.dot(v1, v2) / (v1_norm * v2_norm)"
      ],
      "metadata": {
        "id": "E0MzBxCb_DM7"
      },
      "execution_count": 6,
      "outputs": []
    },
    {
      "cell_type": "markdown",
      "source": [
        "- 문장의 코사인 유사도"
      ],
      "metadata": {
        "id": "8CVTSR3O_ml0"
      }
    },
    {
      "cell_type": "code",
      "source": [
        "doc_list = ['if you take the blue pill, the story ends' ,\n",
        "            'if you take the red pill, you stay in Wonderland',\n",
        "            'if you take the red pill, I show you how deep the rabbit hole goes']"
      ],
      "metadata": {
        "id": "0FKMnnFh_mSr"
      },
      "execution_count": 7,
      "outputs": []
    },
    {
      "cell_type": "code",
      "source": [
        "from sklearn.feature_extraction.text import CountVectorizer, TfidfVectorizer\n",
        "cvect = CountVectorizer()\n",
        "doc_cv = cvect.fit_transform(doc_list)\n",
        "doc_cv.toarray()"
      ],
      "metadata": {
        "colab": {
          "base_uri": "https://localhost:8080/"
        },
        "id": "qE05yQBi_wDT",
        "outputId": "7e0299ff-323b-4a58-972e-06c399d64da1"
      },
      "execution_count": 10,
      "outputs": [
        {
          "output_type": "execute_result",
          "data": {
            "text/plain": [
              "array([[1, 0, 1, 0, 0, 0, 1, 0, 1, 0, 0, 0, 0, 1, 1, 2, 0, 1],\n",
              "       [0, 0, 0, 0, 0, 0, 1, 1, 1, 0, 1, 0, 1, 0, 1, 1, 1, 2],\n",
              "       [0, 1, 0, 1, 1, 1, 1, 0, 1, 1, 1, 1, 0, 0, 1, 2, 0, 2]])"
            ]
          },
          "metadata": {},
          "execution_count": 10
        }
      ]
    },
    {
      "cell_type": "code",
      "source": [
        "d1, d2, d3 = doc_cv.toarray()\n",
        "d1"
      ],
      "metadata": {
        "colab": {
          "base_uri": "https://localhost:8080/"
        },
        "id": "KEg0mAY3AaIK",
        "outputId": "e8defdcf-6848-4023-b768-5ee2c730b207"
      },
      "execution_count": 11,
      "outputs": [
        {
          "output_type": "execute_result",
          "data": {
            "text/plain": [
              "array([1, 0, 1, 0, 0, 0, 1, 0, 1, 0, 0, 0, 0, 1, 1, 2, 0, 1])"
            ]
          },
          "metadata": {},
          "execution_count": 11
        }
      ]
    },
    {
      "cell_type": "code",
      "source": [
        "print(f'문장1 vs 문장2: {cos_similarity(d1,d2):.4f}')\n",
        "print(f'문장1 vs 문장3: {cos_similarity(d1,d3):.4f}')\n",
        "print(f'문장2 vs 문장3: {cos_similarity(d2,d3):.4f}')"
      ],
      "metadata": {
        "colab": {
          "base_uri": "https://localhost:8080/"
        },
        "id": "zL-NmpyjA5Mr",
        "outputId": "6c0dff26-1af1-4a09-e723-1d2417a105a0"
      },
      "execution_count": 12,
      "outputs": [
        {
          "output_type": "stream",
          "name": "stdout",
          "text": [
            "문장1 vs 문장2: 0.6093\n",
            "문장1 vs 문장3: 0.6396\n",
            "문장2 vs 문장3: 0.6804\n"
          ]
        }
      ]
    },
    {
      "cell_type": "code",
      "source": [
        "tvect = TfidfVectorizer()\n",
        "doc_tv = tvect.fit_transform(doc_list)\n",
        "doc_tv.toarray()"
      ],
      "metadata": {
        "colab": {
          "base_uri": "https://localhost:8080/"
        },
        "id": "kqGrZOuADmdw",
        "outputId": "1aaf761f-0cdb-41dd-a2a0-2afad19bbe7d"
      },
      "execution_count": 13,
      "outputs": [
        {
          "output_type": "execute_result",
          "data": {
            "text/plain": [
              "array([[0.4155636 , 0.        , 0.4155636 , 0.        , 0.        ,\n",
              "        0.        , 0.24543856, 0.        , 0.24543856, 0.        ,\n",
              "        0.        , 0.        , 0.        , 0.4155636 , 0.24543856,\n",
              "        0.49087711, 0.        , 0.24543856],\n",
              "       [0.        , 0.        , 0.        , 0.        , 0.        ,\n",
              "        0.        , 0.23402865, 0.39624495, 0.23402865, 0.        ,\n",
              "        0.3013545 , 0.        , 0.39624495, 0.        , 0.23402865,\n",
              "        0.23402865, 0.39624495, 0.4680573 ],\n",
              "       [0.        , 0.30985601, 0.        , 0.30985601, 0.30985601,\n",
              "        0.30985601, 0.18300595, 0.        , 0.18300595, 0.30985601,\n",
              "        0.23565348, 0.30985601, 0.        , 0.        , 0.18300595,\n",
              "        0.3660119 , 0.        , 0.3660119 ]])"
            ]
          },
          "metadata": {},
          "execution_count": 13
        }
      ]
    },
    {
      "cell_type": "code",
      "source": [
        "d1, d2, d3 = doc_tv.toarray()\n",
        "print(f'문장1 vs 문장2: {cos_similarity(d1,d2):.4f}')\n",
        "print(f'문장1 vs 문장3: {cos_similarity(d1,d3):.4f}')\n",
        "print(f'문장2 vs 문장3: {cos_similarity(d2,d3):.4f}')"
      ],
      "metadata": {
        "colab": {
          "base_uri": "https://localhost:8080/"
        },
        "id": "KpySrvNxD3iC",
        "outputId": "6471e7c8-f4bb-4e59-a905-1b1165d7862f"
      },
      "execution_count": 14,
      "outputs": [
        {
          "output_type": "stream",
          "name": "stdout",
          "text": [
            "문장1 vs 문장2: 0.4021\n",
            "문장1 vs 문장3: 0.4043\n",
            "문장2 vs 문장3: 0.4565\n"
          ]
        }
      ]
    },
    {
      "cell_type": "markdown",
      "source": [
        "- Scikit-learn 코사인 유사도"
      ],
      "metadata": {
        "id": "OYKoJNeEELK0"
      }
    },
    {
      "cell_type": "code",
      "source": [
        "from sklearn.metrics.pairwise import cosine_similarity"
      ],
      "metadata": {
        "id": "aRVjmgpzEDRB"
      },
      "execution_count": 15,
      "outputs": []
    },
    {
      "cell_type": "code",
      "source": [
        "cosine_similarity([d1], [d2])"
      ],
      "metadata": {
        "colab": {
          "base_uri": "https://localhost:8080/"
        },
        "id": "GP2kdcUtEbWj",
        "outputId": "db5ba7a6-37a1-4483-c080-3f447e723820"
      },
      "execution_count": 17,
      "outputs": [
        {
          "output_type": "execute_result",
          "data": {
            "text/plain": [
              "array([[0.40207758]])"
            ]
          },
          "metadata": {},
          "execution_count": 17
        }
      ]
    },
    {
      "cell_type": "code",
      "source": [
        "cosine_similarity(doc_cv)"
      ],
      "metadata": {
        "colab": {
          "base_uri": "https://localhost:8080/"
        },
        "id": "cf4_jk5NEekw",
        "outputId": "d0744b29-a626-4e36-c46b-695e2501bdd5"
      },
      "execution_count": 18,
      "outputs": [
        {
          "output_type": "execute_result",
          "data": {
            "text/plain": [
              "array([[1.        , 0.6092718 , 0.63960215],\n",
              "       [0.6092718 , 1.        , 0.68041382],\n",
              "       [0.63960215, 0.68041382, 1.        ]])"
            ]
          },
          "metadata": {},
          "execution_count": 18
        }
      ]
    },
    {
      "cell_type": "code",
      "source": [
        "cosine_similarity(doc_tv, doc_tv)"
      ],
      "metadata": {
        "colab": {
          "base_uri": "https://localhost:8080/"
        },
        "id": "zUsh55l1EweM",
        "outputId": "3f785434-6c94-4601-ec27-dea1a232a25c"
      },
      "execution_count": 19,
      "outputs": [
        {
          "output_type": "execute_result",
          "data": {
            "text/plain": [
              "array([[1.        , 0.40207758, 0.40425045],\n",
              "       [0.40207758, 1.        , 0.45647296],\n",
              "       [0.40425045, 0.45647296, 1.        ]])"
            ]
          },
          "metadata": {},
          "execution_count": 19
        }
      ]
    },
    {
      "cell_type": "code",
      "source": [
        ""
      ],
      "metadata": {
        "id": "e8AgzRk4E1-T"
      },
      "execution_count": null,
      "outputs": []
    }
  ]
}