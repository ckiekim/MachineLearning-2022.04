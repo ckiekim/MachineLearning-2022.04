{
  "nbformat": 4,
  "nbformat_minor": 0,
  "metadata": {
    "colab": {
      "name": "01_BOW.ipynb",
      "provenance": [],
      "collapsed_sections": []
    },
    "kernelspec": {
      "name": "python3",
      "display_name": "Python 3"
    },
    "language_info": {
      "name": "python"
    }
  },
  "cells": [
    {
      "cell_type": "markdown",
      "source": [
        "# Bag of Words\n",
        "### 1. CountVectorizer"
      ],
      "metadata": {
        "id": "NMVtUpKqkiLx"
      }
    },
    {
      "cell_type": "code",
      "execution_count": 1,
      "metadata": {
        "id": "a7V-WGR5Xe5R"
      },
      "outputs": [],
      "source": [
        "from sklearn.feature_extraction.text import CountVectorizer\n",
        "text = 'The SMS Spam Collection is a set of SMS tagged messages that have been collected for SMS Spam research.'"
      ]
    },
    {
      "cell_type": "code",
      "source": [
        "cvect = CountVectorizer()\n",
        "cvect.get_params()"
      ],
      "metadata": {
        "colab": {
          "base_uri": "https://localhost:8080/"
        },
        "id": "EJ8g-YpQlB1S",
        "outputId": "181c2806-fc58-4f14-fa7c-5c63d42ffa69"
      },
      "execution_count": 2,
      "outputs": [
        {
          "output_type": "execute_result",
          "data": {
            "text/plain": [
              "{'analyzer': 'word',\n",
              " 'binary': False,\n",
              " 'decode_error': 'strict',\n",
              " 'dtype': numpy.int64,\n",
              " 'encoding': 'utf-8',\n",
              " 'input': 'content',\n",
              " 'lowercase': True,\n",
              " 'max_df': 1.0,\n",
              " 'max_features': None,\n",
              " 'min_df': 1,\n",
              " 'ngram_range': (1, 1),\n",
              " 'preprocessor': None,\n",
              " 'stop_words': None,\n",
              " 'strip_accents': None,\n",
              " 'token_pattern': '(?u)\\\\b\\\\w\\\\w+\\\\b',\n",
              " 'tokenizer': None,\n",
              " 'vocabulary': None}"
            ]
          },
          "metadata": {},
          "execution_count": 2
        }
      ]
    },
    {
      "cell_type": "code",
      "source": [
        "output = cvect.fit_transform([text])\n",
        "output"
      ],
      "metadata": {
        "colab": {
          "base_uri": "https://localhost:8080/"
        },
        "id": "hXzGCDCzlMSD",
        "outputId": "0e80bf3f-36f5-412a-9e5f-53a02ea61896"
      },
      "execution_count": 4,
      "outputs": [
        {
          "output_type": "execute_result",
          "data": {
            "text/plain": [
              "<1x15 sparse matrix of type '<class 'numpy.int64'>'\n",
              "\twith 15 stored elements in Compressed Sparse Row format>"
            ]
          },
          "metadata": {},
          "execution_count": 4
        }
      ]
    },
    {
      "cell_type": "code",
      "source": [
        "output.toarray()"
      ],
      "metadata": {
        "colab": {
          "base_uri": "https://localhost:8080/"
        },
        "id": "jM2t7c0Albl0",
        "outputId": "30511074-fc1a-4fa7-bc95-a99fe9d1d274"
      },
      "execution_count": 5,
      "outputs": [
        {
          "output_type": "execute_result",
          "data": {
            "text/plain": [
              "array([[1, 1, 1, 1, 1, 1, 1, 1, 1, 1, 3, 2, 1, 1, 1]])"
            ]
          },
          "metadata": {},
          "execution_count": 5
        }
      ]
    },
    {
      "cell_type": "code",
      "source": [
        "cvect.vocabulary_"
      ],
      "metadata": {
        "colab": {
          "base_uri": "https://localhost:8080/"
        },
        "id": "lPOGBLIhl6Sl",
        "outputId": "9c8faacc-5486-4f07-abb9-820987183667"
      },
      "execution_count": 6,
      "outputs": [
        {
          "output_type": "execute_result",
          "data": {
            "text/plain": [
              "{'been': 0,\n",
              " 'collected': 1,\n",
              " 'collection': 2,\n",
              " 'for': 3,\n",
              " 'have': 4,\n",
              " 'is': 5,\n",
              " 'messages': 6,\n",
              " 'of': 7,\n",
              " 'research': 8,\n",
              " 'set': 9,\n",
              " 'sms': 10,\n",
              " 'spam': 11,\n",
              " 'tagged': 12,\n",
              " 'that': 13,\n",
              " 'the': 14}"
            ]
          },
          "metadata": {},
          "execution_count": 6
        }
      ]
    },
    {
      "cell_type": "markdown",
      "source": [
        "- 불용어 처리"
      ],
      "metadata": {
        "id": "PKOP7PI-mZHa"
      }
    },
    {
      "cell_type": "code",
      "source": [
        "# 자체 제거\n",
        "cvect = CountVectorizer(stop_words=['is','a','the'])\n",
        "print(cvect.fit_transform([text]).toarray())\n",
        "print(cvect.vocabulary_)"
      ],
      "metadata": {
        "colab": {
          "base_uri": "https://localhost:8080/"
        },
        "id": "0iY2Ft0QmGCH",
        "outputId": "60eafc95-bb84-4aad-ded2-f5f80105e929"
      },
      "execution_count": 7,
      "outputs": [
        {
          "output_type": "stream",
          "name": "stdout",
          "text": [
            "[[1 1 1 1 1 1 1 1 1 3 2 1 1]]\n",
            "{'sms': 9, 'spam': 10, 'collection': 2, 'set': 8, 'of': 6, 'tagged': 11, 'messages': 5, 'that': 12, 'have': 4, 'been': 0, 'collected': 1, 'for': 3, 'research': 7}\n"
          ]
        }
      ]
    },
    {
      "cell_type": "code",
      "source": [
        "# Scikit-learn에서 제공하는 불용어 사용\n",
        "cvect = CountVectorizer(stop_words='english')\n",
        "print(cvect.fit_transform([text]).toarray())\n",
        "print(cvect.vocabulary_)"
      ],
      "metadata": {
        "colab": {
          "base_uri": "https://localhost:8080/"
        },
        "id": "BpuQm1dXm8Ol",
        "outputId": "ad4b8966-fb5b-4ced-c03c-ed97abc5c1c6"
      },
      "execution_count": 8,
      "outputs": [
        {
          "output_type": "stream",
          "name": "stdout",
          "text": [
            "[[1 1 1 1 1 3 2 1]]\n",
            "{'sms': 5, 'spam': 6, 'collection': 1, 'set': 4, 'tagged': 7, 'messages': 2, 'collected': 0, 'research': 3}\n"
          ]
        }
      ]
    },
    {
      "cell_type": "code",
      "source": [
        "# NLTK 불용어 사용\n",
        "import nltk\n",
        "nltk.download('stopwords')"
      ],
      "metadata": {
        "colab": {
          "base_uri": "https://localhost:8080/"
        },
        "id": "MYLch1i2neoa",
        "outputId": "466cd063-5a62-44f2-a223-9426a76e9da5"
      },
      "execution_count": 9,
      "outputs": [
        {
          "output_type": "stream",
          "name": "stdout",
          "text": [
            "[nltk_data] Downloading package stopwords to /root/nltk_data...\n",
            "[nltk_data]   Unzipping corpora/stopwords.zip.\n"
          ]
        },
        {
          "output_type": "execute_result",
          "data": {
            "text/plain": [
              "True"
            ]
          },
          "metadata": {},
          "execution_count": 9
        }
      ]
    },
    {
      "cell_type": "code",
      "source": [
        "from nltk.corpus import stopwords\n",
        "sw = stopwords.words('english')\n",
        "len(sw), type(sw)"
      ],
      "metadata": {
        "colab": {
          "base_uri": "https://localhost:8080/"
        },
        "id": "z0f3T9nyn-zK",
        "outputId": "18827d0b-363d-4a5b-e961-bbe5d6f41f47"
      },
      "execution_count": 11,
      "outputs": [
        {
          "output_type": "execute_result",
          "data": {
            "text/plain": [
              "(179, list)"
            ]
          },
          "metadata": {},
          "execution_count": 11
        }
      ]
    },
    {
      "cell_type": "code",
      "source": [
        "cvect = CountVectorizer(stop_words=sw)\n",
        "print(cvect.fit_transform([text]).toarray())\n",
        "print(cvect.vocabulary_)"
      ],
      "metadata": {
        "colab": {
          "base_uri": "https://localhost:8080/"
        },
        "id": "mdV8DJfuoOZq",
        "outputId": "e0c38fe6-1fd7-4d3d-bde2-adbaabb34239"
      },
      "execution_count": 12,
      "outputs": [
        {
          "output_type": "stream",
          "name": "stdout",
          "text": [
            "[[1 1 1 1 1 3 2 1]]\n",
            "{'sms': 5, 'spam': 6, 'collection': 1, 'set': 4, 'tagged': 7, 'messages': 2, 'collected': 0, 'research': 3}\n"
          ]
        }
      ]
    },
    {
      "cell_type": "markdown",
      "source": [
        "- 인덱스에 해당하는 단어가 무엇인지 알려주는 함수 제작"
      ],
      "metadata": {
        "id": "QbVU3dxyopP7"
      }
    },
    {
      "cell_type": "code",
      "source": [
        "voca = cvect.vocabulary_\n",
        "for key, value in voca.items():\n",
        "    print(key, value)"
      ],
      "metadata": {
        "colab": {
          "base_uri": "https://localhost:8080/"
        },
        "id": "FcWJhjjRoat7",
        "outputId": "53d865a1-9cb1-481f-b01f-111ffc223594"
      },
      "execution_count": 13,
      "outputs": [
        {
          "output_type": "stream",
          "name": "stdout",
          "text": [
            "sms 5\n",
            "spam 6\n",
            "collection 1\n",
            "set 4\n",
            "tagged 7\n",
            "messages 2\n",
            "collected 0\n",
            "research 3\n"
          ]
        }
      ]
    },
    {
      "cell_type": "code",
      "source": [
        "def get_word(index, voca):\n",
        "    for key, value in voca.items():\n",
        "        if value == index:\n",
        "            return key"
      ],
      "metadata": {
        "id": "QcKZXq8tpKwq"
      },
      "execution_count": 14,
      "outputs": []
    },
    {
      "cell_type": "code",
      "source": [
        "get_word(3, cvect.vocabulary_)"
      ],
      "metadata": {
        "colab": {
          "base_uri": "https://localhost:8080/",
          "height": 36
        },
        "id": "SRWw31fDpcZL",
        "outputId": "ad33c7a7-5616-4f1e-afa2-0af2451e7a6b"
      },
      "execution_count": 15,
      "outputs": [
        {
          "output_type": "execute_result",
          "data": {
            "text/plain": [
              "'research'"
            ],
            "application/vnd.google.colaboratory.intrinsic+json": {
              "type": "string"
            }
          },
          "metadata": {},
          "execution_count": 15
        }
      ]
    },
    {
      "cell_type": "markdown",
      "source": [
        "### 2. N-gram"
      ],
      "metadata": {
        "id": "5k47pyKNsqA6"
      }
    },
    {
      "cell_type": "code",
      "source": [
        "text = ['I work at google.', 'I google at work']\n",
        "cvect = CountVectorizer()\n",
        "print(cvect.fit_transform(text).toarray())\n",
        "print(cvect.vocabulary_)"
      ],
      "metadata": {
        "colab": {
          "base_uri": "https://localhost:8080/"
        },
        "id": "ZpWFqR7uphwZ",
        "outputId": "b323a999-c103-4156-eb5e-8ce4297da4f9"
      },
      "execution_count": 18,
      "outputs": [
        {
          "output_type": "stream",
          "name": "stdout",
          "text": [
            "[[1 1 1]\n",
            " [1 1 1]]\n",
            "{'work': 2, 'at': 0, 'google': 1}\n"
          ]
        }
      ]
    },
    {
      "cell_type": "code",
      "source": [
        "cvect = CountVectorizer(ngram_range=(1,2))\n",
        "print(cvect.fit_transform(text).toarray())\n",
        "print(cvect.vocabulary_)"
      ],
      "metadata": {
        "colab": {
          "base_uri": "https://localhost:8080/"
        },
        "id": "HAGH45Nqtrng",
        "outputId": "5d4d176f-0b39-42ca-c986-0cf105d8687a"
      },
      "execution_count": 19,
      "outputs": [
        {
          "output_type": "stream",
          "name": "stdout",
          "text": [
            "[[1 1 0 1 0 1 1]\n",
            " [1 0 1 1 1 1 0]]\n",
            "{'work': 5, 'at': 0, 'google': 3, 'work at': 6, 'at google': 1, 'google at': 4, 'at work': 2}\n"
          ]
        }
      ]
    },
    {
      "cell_type": "markdown",
      "source": [
        "### 3. TfidfVectorizer(Term Frequency, Inverse Document Frequency)"
      ],
      "metadata": {
        "id": "WdDiKou3ugIS"
      }
    },
    {
      "cell_type": "code",
      "source": [
        "text = ['The SMS Spam Collection is a set of SMS tagged messages that have been collected for SMS Spam research.',\n",
        "        'It contains one set of SMS messages in English of 5,574 messages, tagged acording being ham (legitimate) or spam.']"
      ],
      "metadata": {
        "id": "x-Mr20j7t_nJ"
      },
      "execution_count": 20,
      "outputs": []
    },
    {
      "cell_type": "code",
      "source": [
        "from sklearn.feature_extraction.text import TfidfVectorizer\n",
        "tvect = TfidfVectorizer(stop_words='english')\n",
        "print(tvect.fit_transform(text).toarray())"
      ],
      "metadata": {
        "colab": {
          "base_uri": "https://localhost:8080/"
        },
        "id": "aAIPA8GPu-6f",
        "outputId": "b6896cac-0cf6-4b18-ff06-7762af66d109"
      },
      "execution_count": 21,
      "outputs": [
        {
          "output_type": "stream",
          "name": "stdout",
          "text": [
            "[[0.         0.         0.30015142 0.30015142 0.         0.\n",
            "  0.         0.         0.21356021 0.30015142 0.21356021 0.64068062\n",
            "  0.42712041 0.21356021]\n",
            " [0.31544091 0.31544091 0.         0.         0.31544091 0.31544091\n",
            "  0.31544091 0.31544091 0.44887761 0.         0.2244388  0.2244388\n",
            "  0.2244388  0.2244388 ]]\n"
          ]
        }
      ]
    },
    {
      "cell_type": "code",
      "source": [
        "cvect = CountVectorizer(stop_words='english')\n",
        "print(cvect.fit_transform(text).toarray())\n",
        "print(cvect.vocabulary_)"
      ],
      "metadata": {
        "colab": {
          "base_uri": "https://localhost:8080/"
        },
        "id": "vzfwEnmTvaTR",
        "outputId": "59544dfa-368f-4da5-a84c-afaedabc3413"
      },
      "execution_count": 22,
      "outputs": [
        {
          "output_type": "stream",
          "name": "stdout",
          "text": [
            "[[0 0 1 1 0 0 0 0 1 1 1 3 2 1]\n",
            " [1 1 0 0 1 1 1 1 2 0 1 1 1 1]]\n",
            "{'sms': 11, 'spam': 12, 'collection': 3, 'set': 10, 'tagged': 13, 'messages': 8, 'collected': 2, 'research': 9, 'contains': 4, 'english': 5, '574': 0, 'acording': 1, 'ham': 6, 'legitimate': 7}\n"
          ]
        }
      ]
    },
    {
      "cell_type": "code",
      "source": [
        ""
      ],
      "metadata": {
        "id": "_VpZdR4-vlWI"
      },
      "execution_count": null,
      "outputs": []
    }
  ]
}